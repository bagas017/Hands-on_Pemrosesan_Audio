{
 "cells": [
  {
   "cell_type": "markdown",
   "id": "ac34228f",
   "metadata": {},
   "source": [
    "# Hands-On Audio Processing\n",
    "---"
   ]
  }
 ],
 "metadata": {
  "kernelspec": {
   "display_name": ".venv_audio",
   "language": "python",
   "name": "python3"
  },
  "language_info": {
   "name": "python",
   "version": "3.10.18"
  }
 },
 "nbformat": 4,
 "nbformat_minor": 5
}
