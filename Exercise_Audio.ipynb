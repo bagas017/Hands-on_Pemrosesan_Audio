{
 "cells": [
  {
   "cell_type": "markdown",
   "id": "ac34228f",
   "metadata": {},
   "source": [
    "# Hands-On Audio Processing\n",
    "---\n",
    "Test file for Hands-On Audio Processing\n",
    "## IF4021 - Multimedia Information Processing\n",
    "## Nama: Bagas Andreanto\n",
    "## NIM:122140017  \n",
    "## Link Github Repository: https://github.com/BagasAndreanto/"
   ]
  }
 ],
 "metadata": {
  "kernelspec": {
   "display_name": ".venv_audio",
   "language": "python",
   "name": "python3"
  },
  "language_info": {
   "name": "python",
   "version": "3.10.18"
  }
 },
 "nbformat": 4,
 "nbformat_minor": 5
}
